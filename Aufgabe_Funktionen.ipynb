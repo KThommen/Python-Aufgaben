{
  "nbformat": 4,
  "nbformat_minor": 0,
  "metadata": {
    "colab": {
      "provenance": []
    },
    "kernelspec": {
      "name": "python3",
      "display_name": "Python 3"
    },
    "language_info": {
      "name": "python"
    }
  },
  "cells": [
    {
      "cell_type": "markdown",
      "source": [
        "# Aufgabe zu Funktionen\n",
        "\n",
        "Gegeben ist die Additionsfunktion, die zwei Zahlen zusammenzählt und diesen Wert zurückgibt. Definiere analog weitere Funktionen, die mathematische Operationen implementieren.\n",
        "\n",
        "(*Quelle: ki-kurs.org*)"
      ],
      "metadata": {
        "id": "QzyA5nr2LLNM"
      }
    },
    {
      "cell_type": "code",
      "execution_count": null,
      "metadata": {
        "id": "QJZEwobHLHE2"
      },
      "outputs": [],
      "source": [
        "# der Rückgabewert ist die Summe der beiden Argumente (x + y)\n",
        "def addiere(x, y):\n",
        "    return x + y"
      ]
    },
    {
      "cell_type": "code",
      "source": [
        "# definiere nun genauso eine Subtraktionsfunktion (x - y)\n",
        "def subtrahiere(x, y):\n",
        "    return ...."
      ],
      "metadata": {
        "id": "f6ai5tZUL2g5"
      },
      "execution_count": null,
      "outputs": []
    },
    {
      "cell_type": "code",
      "source": [
        "# eine Multiplikationsfunktion (x * y)\n",
        "...."
      ],
      "metadata": {
        "id": "5BB0kWw0L4dl"
      },
      "execution_count": null,
      "outputs": []
    },
    {
      "cell_type": "code",
      "source": [
        "# eine Quadratfunktion (x * x)\n",
        "...."
      ],
      "metadata": {
        "id": "3ogffZruL5hU"
      },
      "execution_count": null,
      "outputs": []
    },
    {
      "cell_type": "code",
      "source": [
        "# und eine Minimum-Funktion\n",
        "# die Minimum-Funktion gibt das Argument zurück, das den kleineren Wert hat\n",
        "...."
      ],
      "metadata": {
        "id": "f8jqOP5sL6pL"
      },
      "execution_count": null,
      "outputs": []
    },
    {
      "cell_type": "code",
      "source": [
        "# teste alle Funktionen, indem du sie aufrufst und dir die Ergebnisse ausgeben lässt\n",
        "\n",
        "ergebnis_addition = addiere(5, 7)\n",
        "print(\"Ergebnis der Addition: \" + str(ergebnis_addition))"
      ],
      "metadata": {
        "id": "nUOuVoO7L7mI"
      },
      "execution_count": null,
      "outputs": []
    },
    {
      "cell_type": "code",
      "source": [
        "ergebnis_subtraktion = subtrahiere(5, 7)\n",
        "print(\"Ergebnis der Subtraktion: \" + str(ergebnis_subtraktion))"
      ],
      "metadata": {
        "id": "uNXbIPuRL-Cp"
      },
      "execution_count": null,
      "outputs": []
    },
    {
      "cell_type": "code",
      "source": [
        "# teste hier die von dir erstellten Funktionen\n"
      ],
      "metadata": {
        "id": "qJVo7zl8MAS6"
      },
      "execution_count": null,
      "outputs": []
    },
    {
      "cell_type": "code",
      "source": [],
      "metadata": {
        "id": "Tv6haz0YMDPd"
      },
      "execution_count": null,
      "outputs": []
    }
  ]
}